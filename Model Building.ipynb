{
 "cells": [
  {
   "cell_type": "code",
   "execution_count": 30,
   "id": "4c37b19e",
   "metadata": {},
   "outputs": [],
   "source": [
    "import pandas as pd\n",
    "import numpy as np\n",
    "\n",
    "import matplotlib.pyplot as plt\n",
    "\n",
    "plt.rcParams['figure.figsize']=15,8"
   ]
  },
  {
   "cell_type": "code",
   "execution_count": 6,
   "id": "288aed0d",
   "metadata": {},
   "outputs": [],
   "source": [
    "# We will be working on cleaned and feature enginnered data obtained from task2."
   ]
  },
  {
   "cell_type": "code",
   "execution_count": 7,
   "id": "b4ae49cf",
   "metadata": {},
   "outputs": [
    {
     "data": {
      "text/html": [
       "<div>\n",
       "<style scoped>\n",
       "    .dataframe tbody tr th:only-of-type {\n",
       "        vertical-align: middle;\n",
       "    }\n",
       "\n",
       "    .dataframe tbody tr th {\n",
       "        vertical-align: top;\n",
       "    }\n",
       "\n",
       "    .dataframe thead th {\n",
       "        text-align: right;\n",
       "    }\n",
       "</style>\n",
       "<table border=\"1\" class=\"dataframe\">\n",
       "  <thead>\n",
       "    <tr style=\"text-align: right;\">\n",
       "      <th></th>\n",
       "      <th>id</th>\n",
       "      <th>channel_sales</th>\n",
       "      <th>cons_12m</th>\n",
       "      <th>cons_gas_12m</th>\n",
       "      <th>cons_last_month</th>\n",
       "      <th>date_activ</th>\n",
       "      <th>date_end</th>\n",
       "      <th>date_modif_prod</th>\n",
       "      <th>date_renewal</th>\n",
       "      <th>forecast_cons_12m</th>\n",
       "      <th>...</th>\n",
       "      <th>Total_var</th>\n",
       "      <th>Total_fix</th>\n",
       "      <th>off_peak_energy_negative_avg</th>\n",
       "      <th>off_peak_power_negative_avg</th>\n",
       "      <th>off_peak_energy_negative_max</th>\n",
       "      <th>off_peak_power_negative_max</th>\n",
       "      <th>off_peak_energy_positive_avg</th>\n",
       "      <th>off_peak_power_positive_avg</th>\n",
       "      <th>off_peak_energy_positive_max</th>\n",
       "      <th>off_peak_power_positive_max</th>\n",
       "    </tr>\n",
       "  </thead>\n",
       "  <tbody>\n",
       "    <tr>\n",
       "      <th>0</th>\n",
       "      <td>24011ae4ebbe3035111d65fa7c15bc57</td>\n",
       "      <td>foosdfpfkusacimwkcsosbicdxkicaua</td>\n",
       "      <td>0</td>\n",
       "      <td>54946</td>\n",
       "      <td>0</td>\n",
       "      <td>2013-06-15</td>\n",
       "      <td>2016-06-15</td>\n",
       "      <td>2015-11-01</td>\n",
       "      <td>2015-06-23</td>\n",
       "      <td>0.00</td>\n",
       "      <td>...</td>\n",
       "      <td>3.504802</td>\n",
       "      <td>938.347394</td>\n",
       "      <td>-3.381130</td>\n",
       "      <td>0.000000</td>\n",
       "      <td>-6.495543</td>\n",
       "      <td>0.000000</td>\n",
       "      <td>24.305621</td>\n",
       "      <td>3.029476</td>\n",
       "      <td>24.305621</td>\n",
       "      <td>8.686820</td>\n",
       "    </tr>\n",
       "    <tr>\n",
       "      <th>1</th>\n",
       "      <td>d29c2c54acc38ff3c0614d0a653813dd</td>\n",
       "      <td>MISSING</td>\n",
       "      <td>4660</td>\n",
       "      <td>0</td>\n",
       "      <td>0</td>\n",
       "      <td>2009-08-21</td>\n",
       "      <td>2016-08-30</td>\n",
       "      <td>2009-08-21</td>\n",
       "      <td>2015-08-31</td>\n",
       "      <td>189.95</td>\n",
       "      <td>...</td>\n",
       "      <td>1.880790</td>\n",
       "      <td>531.736503</td>\n",
       "      <td>-1.770692</td>\n",
       "      <td>-0.000003</td>\n",
       "      <td>-2.947802</td>\n",
       "      <td>-0.000003</td>\n",
       "      <td>1.073045</td>\n",
       "      <td>0.401609</td>\n",
       "      <td>1.073045</td>\n",
       "      <td>0.401609</td>\n",
       "    </tr>\n",
       "    <tr>\n",
       "      <th>2</th>\n",
       "      <td>764c75f661154dac3a6c254cd082ea7d</td>\n",
       "      <td>foosdfpfkusacimwkcsosbicdxkicaua</td>\n",
       "      <td>544</td>\n",
       "      <td>0</td>\n",
       "      <td>0</td>\n",
       "      <td>2010-04-16</td>\n",
       "      <td>2016-04-16</td>\n",
       "      <td>2010-04-16</td>\n",
       "      <td>2015-04-17</td>\n",
       "      <td>47.96</td>\n",
       "      <td>...</td>\n",
       "      <td>3.107195</td>\n",
       "      <td>532.625404</td>\n",
       "      <td>-1.354201</td>\n",
       "      <td>0.000000</td>\n",
       "      <td>-2.684050</td>\n",
       "      <td>0.000000</td>\n",
       "      <td>0.000000</td>\n",
       "      <td>0.401606</td>\n",
       "      <td>0.000000</td>\n",
       "      <td>0.401606</td>\n",
       "    </tr>\n",
       "    <tr>\n",
       "      <th>3</th>\n",
       "      <td>bba03439a292a1e166f80264c16191cb</td>\n",
       "      <td>lmkebamcaaclubfxadlmueccxoimlema</td>\n",
       "      <td>1584</td>\n",
       "      <td>0</td>\n",
       "      <td>0</td>\n",
       "      <td>2010-03-30</td>\n",
       "      <td>2016-03-30</td>\n",
       "      <td>2010-03-30</td>\n",
       "      <td>2015-03-31</td>\n",
       "      <td>240.04</td>\n",
       "      <td>...</td>\n",
       "      <td>1.814521</td>\n",
       "      <td>532.803183</td>\n",
       "      <td>-1.485466</td>\n",
       "      <td>0.000000</td>\n",
       "      <td>-2.915425</td>\n",
       "      <td>0.000000</td>\n",
       "      <td>0.000000</td>\n",
       "      <td>0.401606</td>\n",
       "      <td>0.000000</td>\n",
       "      <td>0.401606</td>\n",
       "    </tr>\n",
       "    <tr>\n",
       "      <th>4</th>\n",
       "      <td>149d57cf92fc41cf94415803a877cb4b</td>\n",
       "      <td>MISSING</td>\n",
       "      <td>4425</td>\n",
       "      <td>0</td>\n",
       "      <td>526</td>\n",
       "      <td>2010-01-13</td>\n",
       "      <td>2016-03-07</td>\n",
       "      <td>2010-01-13</td>\n",
       "      <td>2015-03-09</td>\n",
       "      <td>445.75</td>\n",
       "      <td>...</td>\n",
       "      <td>3.608133</td>\n",
       "      <td>976.515746</td>\n",
       "      <td>-6.372446</td>\n",
       "      <td>0.000000</td>\n",
       "      <td>-6.372446</td>\n",
       "      <td>0.000000</td>\n",
       "      <td>1.561484</td>\n",
       "      <td>0.401607</td>\n",
       "      <td>1.561484</td>\n",
       "      <td>0.401607</td>\n",
       "    </tr>\n",
       "  </tbody>\n",
       "</table>\n",
       "<p>5 rows × 43 columns</p>\n",
       "</div>"
      ],
      "text/plain": [
       "                                 id                     channel_sales  \\\n",
       "0  24011ae4ebbe3035111d65fa7c15bc57  foosdfpfkusacimwkcsosbicdxkicaua   \n",
       "1  d29c2c54acc38ff3c0614d0a653813dd                           MISSING   \n",
       "2  764c75f661154dac3a6c254cd082ea7d  foosdfpfkusacimwkcsosbicdxkicaua   \n",
       "3  bba03439a292a1e166f80264c16191cb  lmkebamcaaclubfxadlmueccxoimlema   \n",
       "4  149d57cf92fc41cf94415803a877cb4b                           MISSING   \n",
       "\n",
       "   cons_12m  cons_gas_12m  cons_last_month  date_activ    date_end  \\\n",
       "0         0         54946                0  2013-06-15  2016-06-15   \n",
       "1      4660             0                0  2009-08-21  2016-08-30   \n",
       "2       544             0                0  2010-04-16  2016-04-16   \n",
       "3      1584             0                0  2010-03-30  2016-03-30   \n",
       "4      4425             0              526  2010-01-13  2016-03-07   \n",
       "\n",
       "  date_modif_prod date_renewal  forecast_cons_12m  ...  Total_var   Total_fix  \\\n",
       "0      2015-11-01   2015-06-23               0.00  ...   3.504802  938.347394   \n",
       "1      2009-08-21   2015-08-31             189.95  ...   1.880790  531.736503   \n",
       "2      2010-04-16   2015-04-17              47.96  ...   3.107195  532.625404   \n",
       "3      2010-03-30   2015-03-31             240.04  ...   1.814521  532.803183   \n",
       "4      2010-01-13   2015-03-09             445.75  ...   3.608133  976.515746   \n",
       "\n",
       "   off_peak_energy_negative_avg  off_peak_power_negative_avg  \\\n",
       "0                     -3.381130                     0.000000   \n",
       "1                     -1.770692                    -0.000003   \n",
       "2                     -1.354201                     0.000000   \n",
       "3                     -1.485466                     0.000000   \n",
       "4                     -6.372446                     0.000000   \n",
       "\n",
       "   off_peak_energy_negative_max  off_peak_power_negative_max  \\\n",
       "0                     -6.495543                     0.000000   \n",
       "1                     -2.947802                    -0.000003   \n",
       "2                     -2.684050                     0.000000   \n",
       "3                     -2.915425                     0.000000   \n",
       "4                     -6.372446                     0.000000   \n",
       "\n",
       "  off_peak_energy_positive_avg  off_peak_power_positive_avg  \\\n",
       "0                    24.305621                     3.029476   \n",
       "1                     1.073045                     0.401609   \n",
       "2                     0.000000                     0.401606   \n",
       "3                     0.000000                     0.401606   \n",
       "4                     1.561484                     0.401607   \n",
       "\n",
       "   off_peak_energy_positive_max  off_peak_power_positive_max  \n",
       "0                     24.305621                     8.686820  \n",
       "1                      1.073045                     0.401609  \n",
       "2                      0.000000                     0.401606  \n",
       "3                      0.000000                     0.401606  \n",
       "4                      1.561484                     0.401607  \n",
       "\n",
       "[5 rows x 43 columns]"
      ]
     },
     "execution_count": 7,
     "metadata": {},
     "output_type": "execute_result"
    }
   ],
   "source": [
    "df=pd.read_csv('Feature_Engineered_Data.csv')\n",
    "df.head()"
   ]
  },
  {
   "cell_type": "code",
   "execution_count": 8,
   "id": "ce3dbdb1",
   "metadata": {},
   "outputs": [
    {
     "name": "stdout",
     "output_type": "stream",
     "text": [
      "<class 'pandas.core.frame.DataFrame'>\n",
      "RangeIndex: 14606 entries, 0 to 14605\n",
      "Data columns (total 43 columns):\n",
      " #   Column                          Non-Null Count  Dtype  \n",
      "---  ------                          --------------  -----  \n",
      " 0   id                              14606 non-null  object \n",
      " 1   channel_sales                   14606 non-null  object \n",
      " 2   cons_12m                        14606 non-null  int64  \n",
      " 3   cons_gas_12m                    14606 non-null  int64  \n",
      " 4   cons_last_month                 14606 non-null  int64  \n",
      " 5   date_activ                      14606 non-null  object \n",
      " 6   date_end                        14606 non-null  object \n",
      " 7   date_modif_prod                 14606 non-null  object \n",
      " 8   date_renewal                    14606 non-null  object \n",
      " 9   forecast_cons_12m               14606 non-null  float64\n",
      " 10  forecast_cons_year              14606 non-null  int64  \n",
      " 11  forecast_discount_energy        14606 non-null  float64\n",
      " 12  forecast_meter_rent_12m         14606 non-null  float64\n",
      " 13  forecast_price_energy_off_peak  14606 non-null  float64\n",
      " 14  forecast_price_energy_peak      14606 non-null  float64\n",
      " 15  forecast_price_pow_off_peak     14606 non-null  float64\n",
      " 16  has_gas                         14606 non-null  object \n",
      " 17  imp_cons                        14606 non-null  float64\n",
      " 18  margin_gross_pow_ele            14606 non-null  float64\n",
      " 19  margin_net_pow_ele              14606 non-null  float64\n",
      " 20  nb_prod_act                     14606 non-null  int64  \n",
      " 21  net_margin                      14606 non-null  float64\n",
      " 22  num_years_antig                 14606 non-null  int64  \n",
      " 23  origin_up                       14606 non-null  object \n",
      " 24  pow_max                         14606 non-null  float64\n",
      " 25  churn                           14606 non-null  int64  \n",
      " 26  price_off_peak_var              14606 non-null  float64\n",
      " 27  price_peak_var                  14606 non-null  float64\n",
      " 28  price_mid_peak_var              14606 non-null  float64\n",
      " 29  price_off_peak_fix              14606 non-null  float64\n",
      " 30  price_peak_fix                  14606 non-null  float64\n",
      " 31  price_mid_peak_fix              14606 non-null  float64\n",
      " 32  Month_Count                     14606 non-null  int64  \n",
      " 33  Total_var                       14606 non-null  float64\n",
      " 34  Total_fix                       14606 non-null  float64\n",
      " 35  off_peak_energy_negative_avg    14606 non-null  float64\n",
      " 36  off_peak_power_negative_avg     14606 non-null  float64\n",
      " 37  off_peak_energy_negative_max    14606 non-null  float64\n",
      " 38  off_peak_power_negative_max     14606 non-null  float64\n",
      " 39  off_peak_energy_positive_avg    14606 non-null  float64\n",
      " 40  off_peak_power_positive_avg     14606 non-null  float64\n",
      " 41  off_peak_energy_positive_max    14606 non-null  float64\n",
      " 42  off_peak_power_positive_max     14606 non-null  float64\n",
      "dtypes: float64(27), int64(8), object(8)\n",
      "memory usage: 4.8+ MB\n"
     ]
    }
   ],
   "source": [
    "df.info()"
   ]
  },
  {
   "cell_type": "code",
   "execution_count": 9,
   "id": "93498984",
   "metadata": {},
   "outputs": [],
   "source": [
    "# Also drop the datetime columns, which will be helpful later not in model building\n",
    "\n",
    "df.drop(df.columns[5:9],1,inplace=True)"
   ]
  },
  {
   "cell_type": "code",
   "execution_count": 10,
   "id": "6c82afb3",
   "metadata": {},
   "outputs": [],
   "source": [
    "df.drop('id',1,inplace=True)"
   ]
  },
  {
   "cell_type": "code",
   "execution_count": 11,
   "id": "0eb9f304",
   "metadata": {},
   "outputs": [],
   "source": [
    "#Changing the data and datatype of certain columns to numerical for making ready for model.\n",
    "\n",
    "df.has_gas.replace({'t':1,'f':0},inplace=True)"
   ]
  },
  {
   "cell_type": "code",
   "execution_count": 12,
   "id": "697dd2d8",
   "metadata": {},
   "outputs": [
    {
     "name": "stdout",
     "output_type": "stream",
     "text": [
      "<class 'pandas.core.frame.DataFrame'>\n",
      "RangeIndex: 14606 entries, 0 to 14605\n",
      "Data columns (total 38 columns):\n",
      " #   Column                          Non-Null Count  Dtype  \n",
      "---  ------                          --------------  -----  \n",
      " 0   channel_sales                   14606 non-null  object \n",
      " 1   cons_12m                        14606 non-null  int64  \n",
      " 2   cons_gas_12m                    14606 non-null  int64  \n",
      " 3   cons_last_month                 14606 non-null  int64  \n",
      " 4   forecast_cons_12m               14606 non-null  float64\n",
      " 5   forecast_cons_year              14606 non-null  int64  \n",
      " 6   forecast_discount_energy        14606 non-null  float64\n",
      " 7   forecast_meter_rent_12m         14606 non-null  float64\n",
      " 8   forecast_price_energy_off_peak  14606 non-null  float64\n",
      " 9   forecast_price_energy_peak      14606 non-null  float64\n",
      " 10  forecast_price_pow_off_peak     14606 non-null  float64\n",
      " 11  has_gas                         14606 non-null  int64  \n",
      " 12  imp_cons                        14606 non-null  float64\n",
      " 13  margin_gross_pow_ele            14606 non-null  float64\n",
      " 14  margin_net_pow_ele              14606 non-null  float64\n",
      " 15  nb_prod_act                     14606 non-null  int64  \n",
      " 16  net_margin                      14606 non-null  float64\n",
      " 17  num_years_antig                 14606 non-null  int64  \n",
      " 18  origin_up                       14606 non-null  object \n",
      " 19  pow_max                         14606 non-null  float64\n",
      " 20  churn                           14606 non-null  int64  \n",
      " 21  price_off_peak_var              14606 non-null  float64\n",
      " 22  price_peak_var                  14606 non-null  float64\n",
      " 23  price_mid_peak_var              14606 non-null  float64\n",
      " 24  price_off_peak_fix              14606 non-null  float64\n",
      " 25  price_peak_fix                  14606 non-null  float64\n",
      " 26  price_mid_peak_fix              14606 non-null  float64\n",
      " 27  Month_Count                     14606 non-null  int64  \n",
      " 28  Total_var                       14606 non-null  float64\n",
      " 29  Total_fix                       14606 non-null  float64\n",
      " 30  off_peak_energy_negative_avg    14606 non-null  float64\n",
      " 31  off_peak_power_negative_avg     14606 non-null  float64\n",
      " 32  off_peak_energy_negative_max    14606 non-null  float64\n",
      " 33  off_peak_power_negative_max     14606 non-null  float64\n",
      " 34  off_peak_energy_positive_avg    14606 non-null  float64\n",
      " 35  off_peak_power_positive_avg     14606 non-null  float64\n",
      " 36  off_peak_energy_positive_max    14606 non-null  float64\n",
      " 37  off_peak_power_positive_max     14606 non-null  float64\n",
      "dtypes: float64(27), int64(9), object(2)\n",
      "memory usage: 4.2+ MB\n"
     ]
    }
   ],
   "source": [
    "df.info()"
   ]
  },
  {
   "cell_type": "code",
   "execution_count": 13,
   "id": "8e071eb5",
   "metadata": {},
   "outputs": [
    {
     "data": {
      "text/plain": [
       "(14606, 12)"
      ]
     },
     "execution_count": 13,
     "metadata": {},
     "output_type": "execute_result"
    }
   ],
   "source": [
    "#Dummy encoding\n",
    "\n",
    "df_den=pd.get_dummies(df.iloc[:,[0,18]],drop_first=True)\n",
    "df_den.shape"
   ]
  },
  {
   "cell_type": "code",
   "execution_count": null,
   "id": "ada0acb9",
   "metadata": {},
   "outputs": [],
   "source": []
  },
  {
   "cell_type": "code",
   "execution_count": 14,
   "id": "17fa38f1",
   "metadata": {},
   "outputs": [],
   "source": [
    "#Concatenate with original dataframe removing the column for which dummy encoding has been performed\n",
    "\n",
    "df.drop(['channel_sales','origin_up'],1,inplace=True)\n",
    "df=pd.concat([df,df_den],1)\n"
   ]
  },
  {
   "cell_type": "code",
   "execution_count": 15,
   "id": "3da670af",
   "metadata": {},
   "outputs": [
    {
     "data": {
      "text/plain": [
       "cons_12m                                          0\n",
       "cons_gas_12m                                      0\n",
       "cons_last_month                                   0\n",
       "forecast_cons_12m                                 0\n",
       "forecast_cons_year                                0\n",
       "forecast_discount_energy                          0\n",
       "forecast_meter_rent_12m                           0\n",
       "forecast_price_energy_off_peak                    0\n",
       "forecast_price_energy_peak                        0\n",
       "forecast_price_pow_off_peak                       0\n",
       "has_gas                                           0\n",
       "imp_cons                                          0\n",
       "margin_gross_pow_ele                              0\n",
       "margin_net_pow_ele                                0\n",
       "nb_prod_act                                       0\n",
       "net_margin                                        0\n",
       "num_years_antig                                   0\n",
       "pow_max                                           0\n",
       "churn                                             0\n",
       "price_off_peak_var                                0\n",
       "price_peak_var                                    0\n",
       "price_mid_peak_var                                0\n",
       "price_off_peak_fix                                0\n",
       "price_peak_fix                                    0\n",
       "price_mid_peak_fix                                0\n",
       "Month_Count                                       0\n",
       "Total_var                                         0\n",
       "Total_fix                                         0\n",
       "off_peak_energy_negative_avg                      0\n",
       "off_peak_power_negative_avg                       0\n",
       "off_peak_energy_negative_max                      0\n",
       "off_peak_power_negative_max                       0\n",
       "off_peak_energy_positive_avg                      0\n",
       "off_peak_power_positive_avg                       0\n",
       "off_peak_energy_positive_max                      0\n",
       "off_peak_power_positive_max                       0\n",
       "channel_sales_epumfxlbckeskwekxbiuasklxalciiuu    0\n",
       "channel_sales_ewpakwlliwisiwduibdlfmalxowmwpci    0\n",
       "channel_sales_fixdbufsefwooaasfcxdxadsiekoceaa    0\n",
       "channel_sales_foosdfpfkusacimwkcsosbicdxkicaua    0\n",
       "channel_sales_lmkebamcaaclubfxadlmueccxoimlema    0\n",
       "channel_sales_sddiedcslfslkckwlfkdpoeeailfpeds    0\n",
       "channel_sales_usilxuppasemubllopkaafesmlibmsdf    0\n",
       "origin_up_ewxeelcelemmiwuafmddpobolfuxioce        0\n",
       "origin_up_kamkkxfxxuwbdslkwifmmcsiusiuosws        0\n",
       "origin_up_ldkssxwpmemidmecebumciepifcamkci        0\n",
       "origin_up_lxidpiddsbxsbosboudacockeimpuepw        0\n",
       "origin_up_usapbepcfoloekilkwsdiboslwaxobdp        0\n",
       "dtype: int64"
      ]
     },
     "execution_count": 15,
     "metadata": {},
     "output_type": "execute_result"
    }
   ],
   "source": [
    "df.isnull().sum()\n",
    "#Final check for null values."
   ]
  },
  {
   "cell_type": "code",
   "execution_count": 16,
   "id": "414990bd",
   "metadata": {},
   "outputs": [
    {
     "data": {
      "text/plain": [
       "churn                                             1.000000\n",
       "margin_net_pow_ele                                0.095772\n",
       "margin_gross_pow_ele                              0.095725\n",
       "origin_up_lxidpiddsbxsbosboudacockeimpuepw        0.094131\n",
       "origin_up_kamkkxfxxuwbdslkwifmmcsiusiuosws        0.080766\n",
       "channel_sales_foosdfpfkusacimwkcsosbicdxkicaua    0.075964\n",
       "num_years_antig                                   0.074140\n",
       "channel_sales_lmkebamcaaclubfxadlmueccxoimlema    0.052946\n",
       "Total_fix                                         0.051520\n",
       "price_peak_fix                                    0.046952\n",
       "price_mid_peak_var                                0.046249\n",
       "cons_12m                                          0.045968\n",
       "cons_last_month                                   0.045284\n",
       "price_mid_peak_fix                                0.044533\n",
       "forecast_meter_rent_12m                           0.044245\n",
       "net_margin                                        0.041135\n",
       "Total_var                                         0.039546\n",
       "cons_gas_12m                                      0.037957\n",
       "off_peak_energy_negative_avg                      0.032981\n",
       "pow_max                                           0.030362\n",
       "forecast_price_energy_peak                        0.029315\n",
       "price_peak_var                                    0.029280\n",
       "off_peak_energy_negative_max                      0.027690\n",
       "has_gas                                           0.024321\n",
       "origin_up_ldkssxwpmemidmecebumciepifcamkci        0.023519\n",
       "Month_Count                                       0.023343\n",
       "off_peak_power_positive_max                       0.020581\n",
       "off_peak_power_positive_avg                       0.017604\n",
       "forecast_discount_energy                          0.017026\n",
       "off_peak_power_negative_avg                       0.015763\n",
       "off_peak_power_negative_max                       0.015022\n",
       "nb_prod_act                                       0.014930\n",
       "forecast_price_pow_off_peak                       0.014778\n",
       "price_off_peak_fix                                0.014435\n",
       "forecast_cons_12m                                 0.012949\n",
       "channel_sales_ewpakwlliwisiwduibdlfmalxowmwpci    0.011344\n",
       "forecast_price_energy_off_peak                    0.010837\n",
       "channel_sales_sddiedcslfslkckwlfkdpoeeailfpeds    0.009006\n",
       "price_off_peak_var                                0.007860\n",
       "off_peak_energy_positive_avg                      0.005036\n",
       "off_peak_energy_positive_max                      0.004901\n",
       "channel_sales_epumfxlbckeskwekxbiuasklxalciiuu    0.004702\n",
       "origin_up_usapbepcfoloekilkwsdiboslwaxobdp        0.003839\n",
       "channel_sales_fixdbufsefwooaasfcxdxadsiekoceaa    0.003839\n",
       "channel_sales_usilxuppasemubllopkaafesmlibmsdf    0.003496\n",
       "origin_up_ewxeelcelemmiwuafmddpobolfuxioce        0.002714\n",
       "forecast_cons_year                                0.002558\n",
       "imp_cons                                          0.001583\n",
       "Name: churn, dtype: float64"
      ]
     },
     "execution_count": 16,
     "metadata": {},
     "output_type": "execute_result"
    }
   ],
   "source": [
    "np.abs(df.corr()).loc['churn',:].sort_values(ascending=False) #Checking corelation with our target varibale."
   ]
  },
  {
   "cell_type": "code",
   "execution_count": 17,
   "id": "9cd4f2f6",
   "metadata": {},
   "outputs": [
    {
     "data": {
      "text/plain": [
       "((14606, 47), (14606,))"
      ]
     },
     "execution_count": 17,
     "metadata": {},
     "output_type": "execute_result"
    }
   ],
   "source": [
    "#Diving dataframe to independent and dependent variables\n",
    "\n",
    "X=df.drop('churn',1)\n",
    "y=df['churn']\n",
    "\n",
    "X.shape,y.shape"
   ]
  },
  {
   "cell_type": "code",
   "execution_count": 18,
   "id": "4990eec1",
   "metadata": {},
   "outputs": [],
   "source": [
    "# Train-test split in 70:30 ratio\n",
    "\n",
    "from sklearn.model_selection import train_test_split\n",
    "\n",
    "xtrain,xtest,ytrain,ytest=train_test_split(X,y, random_state=10,test_size=0.3)"
   ]
  },
  {
   "cell_type": "markdown",
   "id": "713fd95a",
   "metadata": {},
   "source": [
    "#Feature selection\n",
    "from sklearn.feature_selection import RFE\n",
    "from sklearn.tree import DecisionTreeClassifier\n",
    "from mlxtend.feature_selection import SequentialFeatureSelector as sfs\n",
    "\n"
   ]
  },
  {
   "cell_type": "markdown",
   "id": "879b73ac",
   "metadata": {},
   "source": [
    "#Scoring will be f1 for imbalance in our data.\n",
    "dt=DecisionTreeClassifier(random_state=10)\n",
    "\n",
    "dt_sfs=sfs(estimator=dt,k_features='best',verbose=2,scoring='f1')\n",
    "\n",
    "dt_forward=dt_sfs.fit(xtrain,ytrain)"
   ]
  },
  {
   "cell_type": "markdown",
   "id": "151cdb5a",
   "metadata": {},
   "source": [
    "print('Features selelected using forward selection are: ')\n",
    "print(dt_forward.k_feature_names_)\n",
    "\n",
    "#print the R-squared value\n",
    "print('\\nf1-score: ', dt_forward.k_score_)"
   ]
  },
  {
   "cell_type": "markdown",
   "id": "7ddc417f",
   "metadata": {},
   "source": [
    "forward_selected_features=set(dt_forward.k_feature_names_)\n",
    "len(forward_selected_features)"
   ]
  },
  {
   "cell_type": "markdown",
   "id": "7e66b9b5",
   "metadata": {},
   "source": [
    "#Backward elimination\n",
    "\n",
    "dt_sfs=sfs(estimator=dt,k_features='best',verbose=2,scoring='f1',forward=False,n_jobs=2)\n",
    "\n",
    "dt_backward=dt_sfs.fit(xtrain,ytrain)"
   ]
  },
  {
   "cell_type": "markdown",
   "id": "d3345552",
   "metadata": {},
   "source": [
    "backward_selected_features=set(dt_backward.k_feature_names_)\n",
    "len(backward_selected_features)"
   ]
  },
  {
   "cell_type": "markdown",
   "id": "fa0ad94e",
   "metadata": {},
   "source": [
    "tot=forward_selected_features.intersection(backward_selected_features)\n",
    "len(tot)"
   ]
  },
  {
   "cell_type": "markdown",
   "id": "31f01961",
   "metadata": {},
   "source": [
    "tot"
   ]
  },
  {
   "cell_type": "code",
   "execution_count": null,
   "id": "b21718d2",
   "metadata": {},
   "outputs": [],
   "source": [
    "# As we have decresed the number of columns to most correlated columns, the hyper-parameter max_features will take care of the\n",
    "#feature selection in random_forest classifier."
   ]
  },
  {
   "cell_type": "code",
   "execution_count": null,
   "id": "62638bec",
   "metadata": {},
   "outputs": [],
   "source": [
    "## Lets plot a validation curve to get insights about range for various parameters on a decision tree and use that range for\n",
    "## grid search cv in random forest , because a validation curve for random forest will take infinity to execute."
   ]
  },
  {
   "cell_type": "code",
   "execution_count": null,
   "id": "2ebee7e5",
   "metadata": {},
   "outputs": [],
   "source": [
    "#Validation curve for max_depth parameter"
   ]
  },
  {
   "cell_type": "code",
   "execution_count": 31,
   "id": "385eb5c4",
   "metadata": {},
   "outputs": [
    {
     "data": {
      "image/png": "[encoded data removed]",
      "text/plain": [
       "<Figure size 1080x576 with 1 Axes>"
      ]
     },
     "metadata": {
      "needs_background": "light"
     },
     "output_type": "display_data"
    }
   ],
   "source": [
    "import matplotlib.pyplot as plt\n",
    "from sklearn.ensemble import RandomForestClassifier\n",
    "from sklearn.model_selection import validation_curve\n",
    "param_range = np.arange(1,50)\n",
    "train_scores, test_scores = validation_curve(\n",
    "    DecisionTreeClassifier(), xtrain, ytrain, param_name=\"max_depth\",scoring='f1',param_range=param_range,n_jobs=1)\n",
    "train_scores_mean = np.mean(train_scores, axis=1)\n",
    "train_scores_std = np.std(train_scores, axis=1)\n",
    "test_scores_mean = np.mean(test_scores, axis=1)\n",
    "test_scores_std = np.std(test_scores, axis=1)\n",
    "\n",
    "plt.title(\"Validation Curve with Decision Tree Classifier\")\n",
    "plt.xlabel(\"Max Depth\")\n",
    "plt.ylabel(\"Score\")\n",
    "plt.ylim(0.0, 1.1)\n",
    "lw = 2\n",
    "plt.semilogx(param_range, train_scores_mean, label=\"Training score\",\n",
    "             color=\"darkorange\", lw=lw)\n",
    "plt.fill_between(param_range, train_scores_mean - train_scores_std,\n",
    "                 train_scores_mean + train_scores_std, alpha=0.2,\n",
    "                 color=\"darkorange\", lw=lw)\n",
    "plt.semilogx(param_range, test_scores_mean, label=\"Cross-validation score\",\n",
    "             color=\"navy\", lw=lw)\n",
    "plt.fill_between(param_range, test_scores_mean - test_scores_std,\n",
    "                 test_scores_mean + test_scores_std, alpha=0.2,\n",
    "                 color=\"navy\", lw=lw)\n",
    "plt.legend(loc=\"best\")\n",
    "plt.show()"
   ]
  },
  {
   "cell_type": "code",
   "execution_count": null,
   "id": "4e8f1db5",
   "metadata": {},
   "outputs": [],
   "source": [
    "# As its a semilog graph, we can see 15, 25 gives ideal range of max_depth for cross validation score."
   ]
  },
  {
   "cell_type": "code",
   "execution_count": 32,
   "id": "5d8522a5",
   "metadata": {},
   "outputs": [],
   "source": [
    "# Lets do a GridSeacrh CV on Randomforest classifier.\n",
    "from sklearn.ensemble import RandomForestClassifier\n",
    "from sklearn.model_selection import GridSearchCV"
   ]
  },
  {
   "cell_type": "code",
   "execution_count": 33,
   "id": "b36a5c3e",
   "metadata": {},
   "outputs": [],
   "source": [
    "param=[{'n_estimators':np.arange(30,150,20),'max_depth':np.arange(15,25),'max_features':['sqrt','log2','auto'],\n",
    "       'criterion':['gini','entropy']}]\n",
    "\n",
    "rf_grid=GridSearchCV(estimator=RandomForestClassifier(),param_grid=param,cv=3,scoring='f1') "
   ]
  },
  {
   "cell_type": "code",
   "execution_count": 34,
   "id": "78f0533d",
   "metadata": {},
   "outputs": [
    {
     "data": {
      "text/plain": [
       "GridSearchCV(cv=3, estimator=RandomForestClassifier(),\n",
       "             param_grid=[{'criterion': ['gini', 'entropy'],\n",
       "                          'max_depth': array([15, 16, 17, 18, 19, 20, 21, 22, 23, 24]),\n",
       "                          'max_features': ['sqrt', 'log2', 'auto'],\n",
       "                          'n_estimators': array([ 30,  50,  70,  90, 110, 130])}],\n",
       "             scoring='f1')"
      ]
     },
     "execution_count": 34,
     "metadata": {},
     "output_type": "execute_result"
    }
   ],
   "source": [
    "rf_grid.fit(xtrain,ytrain)"
   ]
  },
  {
   "cell_type": "code",
   "execution_count": 35,
   "id": "496b6fe8",
   "metadata": {},
   "outputs": [
    {
     "data": {
      "text/plain": [
       "{'criterion': 'gini',\n",
       " 'max_depth': 23,\n",
       " 'max_features': 'sqrt',\n",
       " 'n_estimators': 30}"
      ]
     },
     "execution_count": 35,
     "metadata": {},
     "output_type": "execute_result"
    }
   ],
   "source": [
    "rf_grid.best_params_"
   ]
  },
  {
   "cell_type": "code",
   "execution_count": 36,
   "id": "ddfac62e",
   "metadata": {},
   "outputs": [],
   "source": [
    "# Lets another gridserach cv for finding best n_estimators as it has thrown lowest of given value for n_estimators"
   ]
  },
  {
   "cell_type": "code",
   "execution_count": 38,
   "id": "d3e8eafe",
   "metadata": {},
   "outputs": [],
   "source": [
    "param=[{'n_estimators':np.arange(10,30,5),'max_depth':np.arange(23,24,1),'max_features':['sqrt'],\n",
    "       'criterion':['gini']}]\n",
    "\n",
    "rf_grid_2=GridSearchCV(estimator=RandomForestClassifier(),param_grid=param,cv=3,scoring='f1') "
   ]
  },
  {
   "cell_type": "code",
   "execution_count": 39,
   "id": "61e88387",
   "metadata": {},
   "outputs": [
    {
     "data": {
      "text/plain": [
       "{'criterion': 'gini',\n",
       " 'max_depth': 23,\n",
       " 'max_features': 'sqrt',\n",
       " 'n_estimators': 15}"
      ]
     },
     "execution_count": 39,
     "metadata": {},
     "output_type": "execute_result"
    }
   ],
   "source": [
    "rf_grid_2.fit(xtrain,ytrain)\n",
    "rf_grid_2.best_params_"
   ]
  },
  {
   "cell_type": "code",
   "execution_count": 40,
   "id": "fc474174",
   "metadata": {},
   "outputs": [],
   "source": [
    "# A more granualr search\n",
    "param=[{'n_estimators':np.arange(12,17,1),'max_depth':np.arange(23,24,1),'max_features':['sqrt'],\n",
    "       'criterion':['gini']}]\n",
    "\n",
    "rf_grid_3=GridSearchCV(estimator=RandomForestClassifier(),param_grid=param,cv=3,scoring='f1') \n"
   ]
  },
  {
   "cell_type": "code",
   "execution_count": 41,
   "id": "0f4a90a1",
   "metadata": {},
   "outputs": [
    {
     "data": {
      "text/plain": [
       "{'criterion': 'gini',\n",
       " 'max_depth': 23,\n",
       " 'max_features': 'sqrt',\n",
       " 'n_estimators': 13}"
      ]
     },
     "execution_count": 41,
     "metadata": {},
     "output_type": "execute_result"
    }
   ],
   "source": [
    "rf_grid_3.fit(xtrain,ytrain)\n",
    "rf_grid_3.best_params_"
   ]
  },
  {
   "cell_type": "code",
   "execution_count": 42,
   "id": "05dcb826",
   "metadata": {},
   "outputs": [],
   "source": [
    "#These are our best hyperparamets for the random forest classifier."
   ]
  },
  {
   "cell_type": "code",
   "execution_count": 43,
   "id": "08ce382a",
   "metadata": {},
   "outputs": [
    {
     "data": {
      "text/plain": [
       "RandomForestClassifier(max_depth=23, max_features='sqrt', n_estimators=13)"
      ]
     },
     "execution_count": 43,
     "metadata": {},
     "output_type": "execute_result"
    }
   ],
   "source": [
    "RF_best=RandomForestClassifier(n_estimators=13,max_features='sqrt',max_depth=23,criterion='gini')\n",
    "RF_best.fit(xtrain,ytrain)"
   ]
  },
  {
   "cell_type": "code",
   "execution_count": 44,
   "id": "ebe6dca5",
   "metadata": {},
   "outputs": [],
   "source": [
    "# Importaing various model evalution metrics\n",
    "from sklearn.metrics import classification_report,roc_auc_score,roc_curve"
   ]
  },
  {
   "cell_type": "code",
   "execution_count": 45,
   "id": "cbe3240b",
   "metadata": {},
   "outputs": [
    {
     "name": "stdout",
     "output_type": "stream",
     "text": [
      "              precision    recall  f1-score   support\n",
      "\n",
      "           0       0.91      0.99      0.95      3965\n",
      "           1       0.53      0.06      0.10       417\n",
      "\n",
      "    accuracy                           0.91      4382\n",
      "   macro avg       0.72      0.53      0.53      4382\n",
      "weighted avg       0.87      0.91      0.87      4382\n",
      "\n"
     ]
    }
   ],
   "source": [
    "y_pred=RF_best.predict(xtest)\n",
    "report=classification_report(ytest,y_pred)\n",
    "\n",
    "print(report)"
   ]
  },
  {
   "cell_type": "code",
   "execution_count": null,
   "id": "7b41d545",
   "metadata": {},
   "outputs": [],
   "source": [
    "# Precision recall value for minority classes are too low. Lets do an oversampling using SMOTE.\n",
    "#Full over-sampling may cause overfitting of minority class data as exact copies are repeated\n",
    "#Lets define a ratio to oversample, so that imbalance is taken care of while avoiding overfitting of minority class\n",
    "#There is another problem associated with doing train test split, that there might be data leakage from train set to test set,\n",
    "# so test set obtained is not purely unseen data for model.\n",
    "#Smote should only be carried out for train set to model , and test set is left untouched."
   ]
  },
  {
   "cell_type": "code",
   "execution_count": null,
   "id": "38cfe215",
   "metadata": {},
   "outputs": [],
   "source": [
    "# Before oversampling lets do some feature selection as oversampling using SMOTE is bad for high dimensional data"
   ]
  },
  {
   "cell_type": "code",
   "execution_count": 48,
   "id": "4e96af10",
   "metadata": {},
   "outputs": [],
   "source": [
    "from sklearn.feature_selection import RFE\n"
   ]
  },
  {
   "cell_type": "code",
   "execution_count": 54,
   "id": "b5f97914",
   "metadata": {},
   "outputs": [
    {
     "data": {
      "text/plain": [
       "7.0"
      ]
     },
     "execution_count": 54,
     "metadata": {},
     "output_type": "execute_result"
    }
   ],
   "source": [
    "# For n_fetures to select, lets take sqrt of total feautures in our data\n",
    "# We are using sqrt as it was found during first GridSearchCV\n",
    "\n",
    "round(np.sqrt(X.shape[1]),0)\n",
    "\n"
   ]
  },
  {
   "cell_type": "code",
   "execution_count": 59,
   "id": "960fa8f9",
   "metadata": {},
   "outputs": [
    {
     "data": {
      "text/plain": [
       "99.32805696289196"
      ]
     },
     "execution_count": 59,
     "metadata": {},
     "output_type": "execute_result"
    }
   ],
   "source": [
    "\n",
    "#Thumb rule suggests number of sample required for better model training can be found out using following formula\n",
    "# samples=(no_of_features*10)/expected_prob_of_minority_class\n",
    "\n",
    "expt_prob=y.value_counts().apply(lambda x:(x/len(y)))[1]   #Probability of minority class\n",
    "samples=len(xtrain)  #Samples available for training model\n",
    "no_of_features=(samples*expt_prob)/10\n",
    "\n",
    "no_of_features\n",
    "\n",
    "#This suggests we have enough sample for training model which can detect minority class. So we go in somewhere middle ground\n",
    "#of calculated numbers from sqrt and 99.\n",
    "#Also lesser the dimension better the smote.\n",
    "#We will choose 16 as n_features_to_select as while selecting max_features in random forest it gives whole number for both,\n",
    "#sqrt and log2 value."
   ]
  },
  {
   "cell_type": "code",
   "execution_count": 70,
   "id": "cb9987ea",
   "metadata": {},
   "outputs": [
    {
     "data": {
      "text/plain": [
       "RFE(estimator=RandomForestClassifier(), n_features_to_select=16)"
      ]
     },
     "execution_count": 70,
     "metadata": {},
     "output_type": "execute_result"
    }
   ],
   "source": [
    "RF=RandomForestClassifier()\n",
    "rfe_rf=RFE(estimator=RF,n_features_to_select=16)\n",
    "\n",
    "rfe_rf.fit(xtrain,ytrain)"
   ]
  },
  {
   "cell_type": "code",
   "execution_count": 71,
   "id": "75b195bb",
   "metadata": {},
   "outputs": [
    {
     "data": {
      "text/plain": [
       "Index(['cons_12m', 'cons_last_month', 'forecast_cons_12m',\n",
       "       'forecast_cons_year', 'forecast_meter_rent_12m',\n",
       "       'forecast_price_energy_off_peak', 'imp_cons', 'margin_gross_pow_ele',\n",
       "       'margin_net_pow_ele', 'net_margin', 'pow_max', 'price_off_peak_var',\n",
       "       'price_off_peak_fix', 'Total_var', 'off_peak_energy_negative_avg',\n",
       "       'off_peak_energy_negative_max'],\n",
       "      dtype='object')"
      ]
     },
     "execution_count": 71,
     "metadata": {},
     "output_type": "execute_result"
    }
   ],
   "source": [
    "#Creating a dataframe for ranking\n",
    "\n",
    "col_rank=pd.Series(rfe_rf.ranking_,index=xtrain.columns)\n",
    "\n",
    "best_features=col_rank[col_rank==1].index\n",
    "best_features"
   ]
  },
  {
   "cell_type": "code",
   "execution_count": 102,
   "id": "080a23c2",
   "metadata": {},
   "outputs": [
    {
     "data": {
      "text/html": [
       "<div>\n",
       "<style scoped>\n",
       "    .dataframe tbody tr th:only-of-type {\n",
       "        vertical-align: middle;\n",
       "    }\n",
       "\n",
       "    .dataframe tbody tr th {\n",
       "        vertical-align: top;\n",
       "    }\n",
       "\n",
       "    .dataframe thead th {\n",
       "        text-align: right;\n",
       "    }\n",
       "</style>\n",
       "<table border=\"1\" class=\"dataframe\">\n",
       "  <thead>\n",
       "    <tr style=\"text-align: right;\">\n",
       "      <th></th>\n",
       "      <th>cons_12m</th>\n",
       "      <th>cons_last_month</th>\n",
       "      <th>forecast_cons_12m</th>\n",
       "      <th>forecast_cons_year</th>\n",
       "      <th>forecast_meter_rent_12m</th>\n",
       "      <th>forecast_price_energy_off_peak</th>\n",
       "      <th>imp_cons</th>\n",
       "      <th>margin_gross_pow_ele</th>\n",
       "      <th>margin_net_pow_ele</th>\n",
       "      <th>net_margin</th>\n",
       "      <th>pow_max</th>\n",
       "      <th>price_off_peak_var</th>\n",
       "      <th>price_off_peak_fix</th>\n",
       "      <th>Total_var</th>\n",
       "      <th>off_peak_energy_negative_avg</th>\n",
       "      <th>off_peak_energy_negative_max</th>\n",
       "    </tr>\n",
       "  </thead>\n",
       "  <tbody>\n",
       "    <tr>\n",
       "      <th>0</th>\n",
       "      <td>0</td>\n",
       "      <td>0</td>\n",
       "      <td>0.00</td>\n",
       "      <td>0</td>\n",
       "      <td>1.78</td>\n",
       "      <td>0.114481</td>\n",
       "      <td>0.0</td>\n",
       "      <td>25.44</td>\n",
       "      <td>25.44</td>\n",
       "      <td>678.99</td>\n",
       "      <td>43.648</td>\n",
       "      <td>1.497445</td>\n",
       "      <td>491.307186</td>\n",
       "      <td>3.504802</td>\n",
       "      <td>-3.381130</td>\n",
       "      <td>-6.495543</td>\n",
       "    </tr>\n",
       "    <tr>\n",
       "      <th>1</th>\n",
       "      <td>4660</td>\n",
       "      <td>0</td>\n",
       "      <td>189.95</td>\n",
       "      <td>0</td>\n",
       "      <td>16.27</td>\n",
       "      <td>0.145711</td>\n",
       "      <td>0.0</td>\n",
       "      <td>16.38</td>\n",
       "      <td>16.38</td>\n",
       "      <td>18.89</td>\n",
       "      <td>13.800</td>\n",
       "      <td>1.795307</td>\n",
       "      <td>531.736503</td>\n",
       "      <td>1.880790</td>\n",
       "      <td>-1.770692</td>\n",
       "      <td>-2.947802</td>\n",
       "    </tr>\n",
       "  </tbody>\n",
       "</table>\n",
       "</div>"
      ],
      "text/plain": [
       "   cons_12m  cons_last_month  forecast_cons_12m  forecast_cons_year  \\\n",
       "0         0                0               0.00                   0   \n",
       "1      4660                0             189.95                   0   \n",
       "\n",
       "   forecast_meter_rent_12m  forecast_price_energy_off_peak  imp_cons  \\\n",
       "0                     1.78                        0.114481       0.0   \n",
       "1                    16.27                        0.145711       0.0   \n",
       "\n",
       "   margin_gross_pow_ele  margin_net_pow_ele  net_margin  pow_max  \\\n",
       "0                 25.44               25.44      678.99   43.648   \n",
       "1                 16.38               16.38       18.89   13.800   \n",
       "\n",
       "   price_off_peak_var  price_off_peak_fix  Total_var  \\\n",
       "0            1.497445          491.307186   3.504802   \n",
       "1            1.795307          531.736503   1.880790   \n",
       "\n",
       "   off_peak_energy_negative_avg  off_peak_energy_negative_max  \n",
       "0                     -3.381130                     -6.495543  \n",
       "1                     -1.770692                     -2.947802  "
      ]
     },
     "execution_count": 102,
     "metadata": {},
     "output_type": "execute_result"
    }
   ],
   "source": [
    "X_fs=X.loc[:,list(best_features)]   #Creating new X for train test split.\n",
    "X_fs.head(2)"
   ]
  },
  {
   "cell_type": "code",
   "execution_count": 103,
   "id": "fd50acdf",
   "metadata": {},
   "outputs": [
    {
     "data": {
      "text/plain": [
       "0    9222\n",
       "1    1002\n",
       "Name: churn, dtype: int64"
      ]
     },
     "execution_count": 103,
     "metadata": {},
     "output_type": "execute_result"
    }
   ],
   "source": [
    "xtrain_sm,xtest_sm,ytrain,ytest=train_test_split(X_fs,y,random_state=10,test_size=0.3)\n",
    "ytrain.value_counts()"
   ]
  },
  {
   "cell_type": "code",
   "execution_count": 104,
   "id": "b4e91d5a",
   "metadata": {},
   "outputs": [],
   "source": [
    "\n",
    "\n",
    "from imblearn.over_sampling import SMOTE\n",
    "\n",
    "over_sam=SMOTE(random_state=10)\n",
    "\n",
    "X_smote,y_smote=over_sam.fit_resample(xtrain_sm,ytrain)"
   ]
  },
  {
   "cell_type": "code",
   "execution_count": 93,
   "id": "b98723a7",
   "metadata": {},
   "outputs": [
    {
     "data": {
      "text/plain": [
       "0    9222\n",
       "1    9222\n",
       "Name: churn, dtype: int64"
      ]
     },
     "execution_count": 93,
     "metadata": {},
     "output_type": "execute_result"
    }
   ],
   "source": [
    "y_smote.value_counts()  #No of instances for minority class has increased"
   ]
  },
  {
   "cell_type": "code",
   "execution_count": 77,
   "id": "1b2f8605",
   "metadata": {},
   "outputs": [],
   "source": [
    "#Lets perform a GridSearchCV for tuning hyperparameter\n",
    "\n",
    "param=[{'n_estimators':np.arange(30,70,20),'max_depth':np.arange(15,25),'max_features':['sqrt','log2','auto'],\n",
    "       'criterion':['gini','entropy']}]\n",
    "rf_grid=GridSearchCV(estimator=RandomForestClassifier(random_state=10),param_grid=param,cv=3)"
   ]
  },
  {
   "cell_type": "code",
   "execution_count": 78,
   "id": "baceef40",
   "metadata": {},
   "outputs": [
    {
     "data": {
      "text/plain": [
       "GridSearchCV(cv=3, estimator=RandomForestClassifier(random_state=10),\n",
       "             param_grid=[{'criterion': ['gini', 'entropy'],\n",
       "                          'max_depth': array([15, 16, 17, 18, 19, 20, 21, 22, 23, 24]),\n",
       "                          'max_features': ['sqrt', 'log2', 'auto'],\n",
       "                          'n_estimators': array([30, 50])}])"
      ]
     },
     "execution_count": 78,
     "metadata": {},
     "output_type": "execute_result"
    }
   ],
   "source": [
    "rf_grid.fit(X_smote,y_smote)  #X_smote y_smotes are over_sampled train datasets."
   ]
  },
  {
   "cell_type": "code",
   "execution_count": 79,
   "id": "56907e53",
   "metadata": {},
   "outputs": [
    {
     "data": {
      "text/plain": [
       "{'criterion': 'entropy',\n",
       " 'max_depth': 21,\n",
       " 'max_features': 'sqrt',\n",
       " 'n_estimators': 50}"
      ]
     },
     "execution_count": 79,
     "metadata": {},
     "output_type": "execute_result"
    }
   ],
   "source": [
    "rf_grid.best_params_"
   ]
  },
  {
   "cell_type": "code",
   "execution_count": 80,
   "id": "d2b43bca",
   "metadata": {},
   "outputs": [],
   "source": [
    "# More tunning required for finding n_estimators. Now lets remove max fetures as sqrt while giving a range of floating point\n",
    "#values.\n",
    "\n",
    "\n",
    "\n",
    "param=[{'n_estimators':np.arange(45,55,1),'max_depth':np.arange(20,23),'max_features':np.arange(0.3,0.7,0.1),\n",
    "       'criterion':['entropy']}]\n",
    "rf_grid=GridSearchCV(estimator=RandomForestClassifier(random_state=10),param_grid=param,cv=3)"
   ]
  },
  {
   "cell_type": "code",
   "execution_count": 81,
   "id": "49e5c29d",
   "metadata": {},
   "outputs": [
    {
     "data": {
      "text/plain": [
       "{'criterion': 'entropy',\n",
       " 'max_depth': 20,\n",
       " 'max_features': 0.3,\n",
       " 'n_estimators': 45}"
      ]
     },
     "execution_count": 81,
     "metadata": {},
     "output_type": "execute_result"
    }
   ],
   "source": [
    "rf_grid.fit(X_smote,y_smote)  \n",
    "\n",
    "rf_grid.best_params_"
   ]
  },
  {
   "cell_type": "code",
   "execution_count": 82,
   "id": "29bab76c",
   "metadata": {},
   "outputs": [
    {
     "data": {
      "text/plain": [
       "4.8"
      ]
     },
     "execution_count": 82,
     "metadata": {},
     "output_type": "execute_result"
    }
   ],
   "source": []
  },
  {
   "cell_type": "code",
   "execution_count": 83,
   "id": "390b619b",
   "metadata": {},
   "outputs": [
    {
     "data": {
      "text/plain": [
       "{'criterion': 'entropy',\n",
       " 'max_depth': 21,\n",
       " 'max_features': 0.2,\n",
       " 'n_estimators': 44}"
      ]
     },
     "execution_count": 83,
     "metadata": {},
     "output_type": "execute_result"
    }
   ],
   "source": [
    "# More tuning required for n_estimators\n",
    "\n",
    "\n",
    "\n",
    "\n",
    "param=[{'n_estimators':np.arange(35,45,1),'max_depth':np.arange(18,23),'max_features':np.arange(0.1,0.4,0.1),\n",
    "       'criterion':['entropy']}]\n",
    "rf_grid=GridSearchCV(estimator=RandomForestClassifier(random_state=10),param_grid=param,cv=3)\n",
    "rf_grid.fit(X_smote,y_smote)  \n",
    "\n",
    "rf_grid.best_params_"
   ]
  },
  {
   "cell_type": "code",
   "execution_count": 98,
   "id": "924f2d11",
   "metadata": {},
   "outputs": [
    {
     "name": "stdout",
     "output_type": "stream",
     "text": [
      "              precision    recall  f1-score   support\n",
      "\n",
      "           0       0.91      0.99      0.95      3965\n",
      "           1       0.46      0.11      0.18       417\n",
      "\n",
      "    accuracy                           0.90      4382\n",
      "   macro avg       0.69      0.55      0.56      4382\n",
      "weighted avg       0.87      0.90      0.88      4382\n",
      "\n"
     ]
    }
   ],
   "source": [
    "rf_smote=RandomForestClassifier(n_estimators=45,max_depth=21,max_features=0.2,criterion='entropy',random_state=10)\n",
    "rf_smote.fit(X_smote,y_smote)\n",
    "\n",
    "y_pred=rf_smote.predict(xtest_sm)\n",
    "\n",
    "report=classification_report(ytest,y_pred)\n",
    "\n",
    "print(report)"
   ]
  },
  {
   "cell_type": "code",
   "execution_count": 88,
   "id": "8ae73de3",
   "metadata": {},
   "outputs": [
    {
     "data": {
      "text/plain": [
       "(4382,)"
      ]
     },
     "execution_count": 88,
     "metadata": {},
     "output_type": "execute_result"
    }
   ],
   "source": [
    "# Recall value has increased but is not acceptable.\n",
    "#Lets try boosting techniques"
   ]
  },
  {
   "cell_type": "code",
   "execution_count": 99,
   "id": "3c10a279",
   "metadata": {},
   "outputs": [],
   "source": [
    "from sklearn.ensemble import AdaBoostClassifier,GradientBoostingClassifier"
   ]
  },
  {
   "cell_type": "code",
   "execution_count": 101,
   "id": "e7d9e15b",
   "metadata": {},
   "outputs": [
    {
     "name": "stderr",
     "output_type": "stream",
     "text": [
      "C:\\Users\\Shakti\\anaconda3\\lib\\site-packages\\sklearn\\model_selection\\_validation.py:372: FitFailedWarning: \n",
      "108 fits failed out of a total of 216.\n",
      "The score on these train-test partitions for these parameters will be set to nan.\n",
      "If these failures are not expected, you can try to debug them by setting error_score='raise'.\n",
      "\n",
      "Below are more details about the failures:\n",
      "--------------------------------------------------------------------------------\n",
      "108 fits failed with the following error:\n",
      "Traceback (most recent call last):\n",
      "  File \"C:\\Users\\Shakti\\anaconda3\\lib\\site-packages\\sklearn\\model_selection\\_validation.py\", line 680, in _fit_and_score\n",
      "    estimator.fit(X_train, y_train, **fit_params)\n",
      "  File \"C:\\Users\\Shakti\\anaconda3\\lib\\site-packages\\sklearn\\ensemble\\_gb.py\", line 525, in fit\n",
      "    self._check_params()\n",
      "  File \"C:\\Users\\Shakti\\anaconda3\\lib\\site-packages\\sklearn\\ensemble\\_gb.py\", line 282, in _check_params\n",
      "    raise ValueError(\"Loss '{0:s}' not supported. \".format(self.loss))\n",
      "ValueError: Loss 'entropy' not supported. \n",
      "\n",
      "  warnings.warn(some_fits_failed_message, FitFailedWarning)\n",
      "C:\\Users\\Shakti\\anaconda3\\lib\\site-packages\\sklearn\\model_selection\\_search.py:969: UserWarning: One or more of the test scores are non-finite: [0.71014964 0.71014964 0.71014964 0.71014964        nan        nan\n",
      "        nan        nan 0.71014964 0.71014964 0.71014964 0.71014964\n",
      "        nan        nan        nan        nan 0.71145088 0.71145088\n",
      " 0.71134244 0.71134244        nan        nan        nan        nan\n",
      " 0.78638039 0.78892865 0.79060941 0.79619388        nan        nan\n",
      "        nan        nan 0.88690089 0.89183474 0.89459987 0.89893732\n",
      "        nan        nan        nan        nan 0.91964867 0.92192583\n",
      " 0.92263067 0.9233355         nan        nan        nan        nan\n",
      " 0.91330514 0.91352201 0.91308827 0.91493169        nan        nan\n",
      "        nan        nan 0.47880069 0.47880069 0.47880069 0.47880069\n",
      "        nan        nan        nan        nan 0.52060291 0.52060291\n",
      " 0.52060291 0.52060291        nan        nan        nan        nan]\n",
      "  warnings.warn(\n"
     ]
    },
    {
     "data": {
      "text/plain": [
       "{'learning_rate': 0.5, 'loss': 'deviance', 'n_estimators': 90}"
      ]
     },
     "execution_count": 101,
     "metadata": {},
     "output_type": "execute_result"
    }
   ],
   "source": [
    "param=[{'n_estimators':np.arange(60,100,10),'learning_rate':[0.00001,0.0001,0.001,0.01,0.1,0.5,1,5,10],\n",
    "        'loss':['deviance','entropy']}]\n",
    "gb_grid=GridSearchCV(estimator=GradientBoostingClassifier(),param_grid=param,cv=3)\n",
    "\n",
    "gb_grid.fit(X_smote,y_smote)\n",
    "\n",
    "gb_grid.best_params_"
   ]
  },
  {
   "cell_type": "code",
   "execution_count": 105,
   "id": "f2c3c68d",
   "metadata": {},
   "outputs": [
    {
     "data": {
      "text/plain": [
       "{'learning_rate': 0.8}"
      ]
     },
     "execution_count": 105,
     "metadata": {},
     "output_type": "execute_result"
    }
   ],
   "source": [
    "param=[{'learning_rate':np.arange(0.1,0.9,0.1)}]\n",
    "gb_grid=GridSearchCV(estimator=GradientBoostingClassifier(n_estimators=90),param_grid=param,cv=3)\n",
    "\n",
    "gb_grid.fit(X_smote,y_smote)\n",
    "\n",
    "gb_grid.best_params_"
   ]
  },
  {
   "cell_type": "code",
   "execution_count": 106,
   "id": "c3bb8857",
   "metadata": {},
   "outputs": [
    {
     "data": {
      "text/plain": [
       "{'learning_rate': 0.7999999999999999}"
      ]
     },
     "execution_count": 106,
     "metadata": {},
     "output_type": "execute_result"
    }
   ],
   "source": [
    "param=[{'learning_rate':np.arange(0.7,1,0.1)}]\n",
    "gb_grid=GridSearchCV(estimator=GradientBoostingClassifier(n_estimators=90),param_grid=param,cv=3)\n",
    "\n",
    "gb_grid.fit(X_smote,y_smote)\n",
    "\n",
    "gb_grid.best_params_"
   ]
  },
  {
   "cell_type": "code",
   "execution_count": 107,
   "id": "66b0860a",
   "metadata": {},
   "outputs": [
    {
     "name": "stdout",
     "output_type": "stream",
     "text": [
      "              precision    recall  f1-score   support\n",
      "\n",
      "           0       0.91      0.94      0.93      3965\n",
      "           1       0.23      0.16      0.19       417\n",
      "\n",
      "    accuracy                           0.87      4382\n",
      "   macro avg       0.57      0.55      0.56      4382\n",
      "weighted avg       0.85      0.87      0.86      4382\n",
      "\n"
     ]
    }
   ],
   "source": [
    "gb_best=GradientBoostingClassifier(n_estimators=90,learning_rate=0.8)\n",
    "gb_best.fit(X_smote,y_smote)\n",
    "\n",
    "y_pred=gb_best.predict(xtest_sm)\n",
    "\n",
    "report=classification_report(ytest,y_pred)\n",
    "\n",
    "print(report)"
   ]
  },
  {
   "cell_type": "code",
   "execution_count": 108,
   "id": "d7c6298a",
   "metadata": {},
   "outputs": [],
   "source": [
    "# There is increase in recall value but precision fell drastically"
   ]
  },
  {
   "cell_type": "code",
   "execution_count": 109,
   "id": "fe1491c7",
   "metadata": {},
   "outputs": [],
   "source": [
    "from xgboost import XGBClassifier\n"
   ]
  },
  {
   "cell_type": "code",
   "execution_count": 110,
   "id": "d5a3b3bf",
   "metadata": {},
   "outputs": [
    {
     "name": "stderr",
     "output_type": "stream",
     "text": [
      "C:\\Users\\Shakti\\anaconda3\\lib\\site-packages\\xgboost\\sklearn.py:1224: UserWarning: The use of label encoder in XGBClassifier is deprecated and will be removed in a future release. To remove this warning, do the following: 1) Pass option use_label_encoder=False when constructing XGBClassifier object; and 2) Encode your labels (y) as integers starting with 0, i.e. 0, 1, 2, ..., [num_class - 1].\n",
      "  warnings.warn(label_encoder_deprecation_msg, UserWarning)\n"
     ]
    },
    {
     "name": "stdout",
     "output_type": "stream",
     "text": [
      "[21:38:43] WARNING: C:/Users/Administrator/workspace/xgboost-win64_release_1.5.1/src/learner.cc:1115: Starting in XGBoost 1.3.0, the default evaluation metric used with the objective 'binary:logistic' was changed from 'error' to 'logloss'. Explicitly set eval_metric if you'd like to restore the old behavior.\n",
      "              precision    recall  f1-score   support\n",
      "\n",
      "           0       0.91      0.97      0.94      3965\n",
      "           1       0.28      0.12      0.17       417\n",
      "\n",
      "    accuracy                           0.89      4382\n",
      "   macro avg       0.60      0.55      0.56      4382\n",
      "weighted avg       0.85      0.89      0.87      4382\n",
      "\n"
     ]
    }
   ],
   "source": [
    "xg_model=XGBClassifier().fit(X_smote,y_smote)\n",
    "\n",
    "\n",
    "\n",
    "y_pred=xg_model.predict(xtest_sm)\n",
    "\n",
    "report=classification_report(ytest,y_pred)\n",
    "\n",
    "print(report)"
   ]
  },
  {
   "cell_type": "code",
   "execution_count": 111,
   "id": "3fa1a084",
   "metadata": {},
   "outputs": [
    {
     "name": "stdout",
     "output_type": "stream",
     "text": [
      "              precision    recall  f1-score   support\n",
      "\n",
      "           0       0.91      0.94      0.93      3965\n",
      "           1       0.23      0.16      0.19       417\n",
      "\n",
      "    accuracy                           0.87      4382\n",
      "   macro avg       0.57      0.55      0.56      4382\n",
      "weighted avg       0.85      0.87      0.86      4382\n",
      "\n"
     ]
    }
   ],
   "source": [
    "#So gradient boosting was giving best results, till now.\n",
    "\n",
    "gb_best=GradientBoostingClassifier(n_estimators=90,learning_rate=0.8)\n",
    "gb_best.fit(X_smote,y_smote)\n",
    "\n",
    "y_pred=gb_best.predict(xtest_sm)\n",
    "\n",
    "report=classification_report(ytest,y_pred)\n",
    "\n",
    "print(report)"
   ]
  },
  {
   "cell_type": "code",
   "execution_count": null,
   "id": "3b148f7c",
   "metadata": {},
   "outputs": [],
   "source": [
    "# Low recall value means it has less capacity to detect churn \n",
    "#low precision means it has less capacity to predict churn\n"
   ]
  }
 ],
 "metadata": {
  "kernelspec": {
   "display_name": "Python 3",
   "language": "python",
   "name": "python3"
  },
  "language_info": {
   "codemirror_mode": {
    "name": "ipython",
    "version": 3
   },
   "file_extension": ".py",
   "mimetype": "text/x-python",
   "name": "python",
   "nbconvert_exporter": "python",
   "pygments_lexer": "ipython3",
   "version": "3.8.8"
  }
 },
 "nbformat": 4,
 "nbformat_minor": 5
}
